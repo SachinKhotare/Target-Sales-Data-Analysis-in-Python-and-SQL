{
 "cells": [
  {
   "cell_type": "code",
   "execution_count": null,
   "id": "0d34a8a6-c95d-4dff-98fe-5496f7463bc0",
   "metadata": {},
   "outputs": [],
   "source": [
    "import pandas as pd\n",
    "import matplotlib.pyplot as plt\n",
    "import seaborn as sns\n",
    "import numpy as np\n",
    "import mysql.connector\n",
    "\n",
    "db = mysql.connector.connect(host = \"localhost\", \n",
    "                            username = \"root\",\n",
    "                             password = \"Sachin@5893\",\n",
    "                             database = \"target\"\n",
    "                            )\n",
    "\n",
    "cur = db.cursor()\n"
   ]
  },
  {
   "cell_type": "markdown",
   "id": "b608945f-2796-49eb-9463-ff289d5790f8",
   "metadata": {},
   "source": [
    "# Basic Queries"
   ]
  },
  {
   "cell_type": "markdown",
   "id": "678b6572-51ad-42db-89f2-002aa1f79a94",
   "metadata": {},
   "source": [
    "**1.List all unique cities where customers are located.**"
   ]
  },
  {
   "cell_type": "code",
   "execution_count": null,
   "id": "4d9734f9-db47-4f35-b916-cbf64e2e4f11",
   "metadata": {},
   "outputs": [],
   "source": [
    "query = \"\"\" select distinct customer_city from customers \"\"\"\n",
    "cur.execute(query)\n",
    "data = cur.fetchall()\n",
    "df= pd.DataFrame(data, columns= [\"States\"])\n",
    "df.head(5)"
   ]
  },
  {
   "cell_type": "markdown",
   "id": "6a60fb39-1450-40c5-973c-f15c0fa4daa9",
   "metadata": {},
   "source": [
    "**2.Count the number of orders placed in 2017.**"
   ]
  },
  {
   "cell_type": "code",
   "execution_count": null,
   "id": "64b82b0a-a9b2-4b65-ae7d-90532ae9d652",
   "metadata": {},
   "outputs": [],
   "source": [
    "query = \"\"\" select count(order_id) from orders where year(order_purchase_timestamp) = 2017 \"\"\"\n",
    "cur.execute(query)\n",
    "data = cur.fetchall()\n",
    "\"Total orders placed in 2027 are \", data[0][0]"
   ]
  },
  {
   "cell_type": "markdown",
   "id": "1b2fa47b-370a-414a-9d26-001467ff456c",
   "metadata": {},
   "source": [
    "**3.Find the total sales per category.**"
   ]
  },
  {
   "cell_type": "code",
   "execution_count": null,
   "id": "a3e950bf-01bd-4e3d-85e3-21da8222817b",
   "metadata": {},
   "outputs": [],
   "source": [
    "query = \"\"\" select products.product_category category, round(sum(payments.payment_value),2) sales\n",
    "from products join order_items\n",
    "on products.product_id = order_items.product_id\n",
    "join payments\n",
    "on payments.order_id = order_items.order_id\n",
    "group by category\n",
    "\n",
    "\"\"\"\n",
    "cur.execute(query)\n",
    "data = cur.fetchall()\n",
    "df = pd.DataFrame(data, columns=[\"Category\", \"Sales\"])\n",
    "df"
   ]
  },
  {
   "cell_type": "markdown",
   "id": "5ae3d2fc-d151-4325-8cda-52eb97920ef9",
   "metadata": {},
   "source": [
    "**4.Calculate the percentage of orders that were paid in installments.**"
   ]
  },
  {
   "cell_type": "code",
   "execution_count": null,
   "id": "09a83df2-2d43-47bd-ac29-8ad03eb73c8a",
   "metadata": {},
   "outputs": [],
   "source": [
    "query = \"\"\" select (sum(case when payment_installments >=1 then 1 else 0 end))/count(*)*100 from payments\"\"\"\n",
    "cur.execute(query)\n",
    "data = cur.fetchall()\n",
    "\"Percentage of orders that were paid in installments is \", data[0][0]"
   ]
  },
  {
   "cell_type": "markdown",
   "id": "157526ab-677d-4903-9ca0-89e74b569aba",
   "metadata": {},
   "source": [
    "**5.Count the number of customers from each state**"
   ]
  },
  {
   "cell_type": "code",
   "execution_count": null,
   "id": "d0263a09-0a9e-46f4-8efd-badd67b9bc55",
   "metadata": {},
   "outputs": [],
   "source": [
    "query = \"\"\" select customer_state, count(customer_id) from customers group by customer_state \"\"\"\n",
    "cur.execute(query)\n",
    "data = cur.fetchall()\n",
    "df= pd.DataFrame(data, columns=[\"States\",\"No of Customers\"])\n",
    "#df\n",
    "df = df.sort_values(by=\"No of Customers\", ascending=False) \n",
    "plt.figure(figsize=(8,3))\n",
    "plt.bar(df[\"States\"],df[\"No of Customers\"])\n",
    "plt.xticks(rotation = 90)\n",
    "plt.xlabel(\"States\")\n",
    "plt.ylabel(\"No of Customers\")\n",
    "plt.title(\"No of Customers by States\")\n",
    "plt.show()"
   ]
  },
  {
   "cell_type": "markdown",
   "id": "c2c0c72e-1ae3-40b8-9d97-c587b0984303",
   "metadata": {},
   "source": [
    "# Intermediate Queries"
   ]
  },
  {
   "cell_type": "markdown",
   "id": "38f0ba63-37fd-40b6-9f69-09d3a3a9d770",
   "metadata": {},
   "source": [
    "**1.Calculate the number of orders per month in 2018.**"
   ]
  },
  {
   "cell_type": "code",
   "execution_count": null,
   "id": "cb62a5bb-53af-4f39-9595-f3b83c20bc42",
   "metadata": {},
   "outputs": [],
   "source": [
    "query = \"\"\" select monthname(order_purchase_timestamp) months, count(order_id) order_count\n",
    "from orders where year(order_purchase_timestamp) = 2018\n",
    "group by months\n",
    "\"\"\"\n",
    "cur.execute(query)\n",
    "data = cur.fetchall()\n",
    "df=pd.DataFrame(data, columns= [\"months\",\"order_count\"])\n",
    "o = [\"January\", \"February\", \"March\", \"April\", \"May\", \"June\", \"July\", \"August\", \"September\", \"October\"]\n",
    "ax = sns.barplot(x = df[\"months\"], y = df[\"order_count\"], data=df, color = \"red\", order=o)\n",
    "plt.xticks(rotation = 45)\n",
    "ax.bar_label(ax.containers[0])\n",
    "plt.title(\"Count by Orders by Months in 2028\")\n",
    "plt.show()"
   ]
  },
  {
   "cell_type": "markdown",
   "id": "44eea58d-884c-47d9-82b2-f2a88147f54f",
   "metadata": {},
   "source": [
    "**2.Find the average number of products per order, grouped by customer city.**"
   ]
  },
  {
   "cell_type": "code",
   "execution_count": null,
   "id": "a50d65eb-1310-47e1-8723-903b7c7f5e8e",
   "metadata": {},
   "outputs": [],
   "source": [
    "query = \"\"\" with count_per_order as\n",
    "(select orders.order_id, orders.customer_id, count(order_items.order_id) as  oc\n",
    "from orders join order_items\n",
    "on orders.order_id = order_items.order_id\n",
    "group by orders.order_id, orders.customer_id)\n",
    "\n",
    "select customers.customer_city, round(avg(count_per_order.oc),2) average_order\n",
    "from customers join count_per_order\n",
    "on customers.customer_id = count_per_order.customer_id\n",
    "group by customers.customer_city order by average_order desc\n",
    "    \n",
    "\"\"\"\n",
    "cur.execute(query)\n",
    "data = cur.fetchall()\n",
    "df= pd.DataFrame(data,columns=[\"Customer City\", \"Average Products/Orders\"])\n",
    "df.head(10)"
   ]
  },
  {
   "cell_type": "markdown",
   "id": "95213432-f253-4fd3-9644-8e8bf643ba76",
   "metadata": {},
   "source": [
    "**3.Calculate the percentage of total revenue contributed by each product category.**"
   ]
  },
  {
   "cell_type": "code",
   "execution_count": null,
   "id": "63921859-2adb-48b7-bc72-738987b60cb5",
   "metadata": {},
   "outputs": [],
   "source": [
    "query = \"\"\" select upper(products.product_category) category, round((sum(payments.payment_value)/(select sum(payment_value) from payments))*100,2) sales_percentage\n",
    "from products join order_items\n",
    "on products.product_id = order_items.product_id\n",
    "join payments\n",
    "on payments.order_id = order_items.order_id\n",
    "group by category order by sales_percentage desc\n",
    "\n",
    "\"\"\"\n",
    "cur.execute(query)\n",
    "data = cur.fetchall()\n",
    "df= pd.DataFrame(data,columns=[\"Category\", \"Percentage Distribution\"])\n",
    "df.head(10)"
   ]
  },
  {
   "cell_type": "markdown",
   "id": "543e241d-a133-4025-93a0-4ea07af5489d",
   "metadata": {},
   "source": [
    "**4.Identify the correlation between product price and the number of times a product has been purchased.**"
   ]
  },
  {
   "cell_type": "code",
   "execution_count": null,
   "id": "d3069b79-1863-4539-a70f-1cacce70ce58",
   "metadata": {},
   "outputs": [],
   "source": [
    "query = \"\"\" select products.product_category,\n",
    "count(order_items.product_id),\n",
    "round(avg(order_items.price),2)\n",
    "from products join  order_items\n",
    "on products.product_id = order_items.product_id\n",
    "group by products.product_category\n",
    "\"\"\"\n",
    "cur.execute(query)\n",
    "data = cur.fetchall()\n",
    "df= pd.DataFrame(data,columns=[\"Category\", \"order_count\", \"price\"])\n",
    "\n",
    "arr1= df[\"order_count\"]\n",
    "arr2 = df[\"price\"]\n",
    "a = np.corrcoef([arr1, arr2])\n",
    "print(\"The  Correlation between price and number of times a product has been purchased\", a[0][1])"
   ]
  },
  {
   "cell_type": "markdown",
   "id": "bdb3f7c2-8155-472f-9a07-0cf8b09c094c",
   "metadata": {},
   "source": [
    "**5.Calculate the total revenue generated by each seller, and rank them by revenue.**"
   ]
  },
  {
   "cell_type": "code",
   "execution_count": null,
   "id": "bbef3e3b-28fa-4302-b6be-2e1629f028ea",
   "metadata": {},
   "outputs": [],
   "source": [
    "query = \"\"\" select *, dense_rank() over(order by revenue desc) as rn from\n",
    "(select order_items.seller_id, sum(payments.payment_value)\n",
    "revenue from order_items join payments\n",
    "on order_items.order_id = payments.order_id\n",
    "group by order_items.seller_id) as a\n",
    "\"\"\"\n",
    "cur.execute(query)\n",
    "data = cur.fetchall()\n",
    "df = pd.DataFrame(data, columns=[\"seller_id\",\"revenue\",\"Rank\"])\n",
    "df = df.head()\n",
    "sns.barplot(x=\"seller_id\", y=\"revenue\", data=df)\n",
    "plt.xticks(rotation = 90)\n",
    "plt.show()"
   ]
  },
  {
   "cell_type": "markdown",
   "id": "1ad122ff-8cd7-43ad-adb7-2dc406718352",
   "metadata": {},
   "source": [
    "# Advanced Queries\n"
   ]
  },
  {
   "cell_type": "markdown",
   "id": "93fb34ed-a336-4411-a5d3-475b24b222d3",
   "metadata": {},
   "source": [
    "**1. Calculate the moving average of order values for each customer over their order history.**"
   ]
  },
  {
   "cell_type": "code",
   "execution_count": null,
   "id": "d2c64d87-6867-48bb-be34-adc1aa6330a3",
   "metadata": {},
   "outputs": [],
   "source": [
    "query=\"\"\" select customer_id, order_purchase_timestamp, payment,\n",
    "avg(payment) over (partition by customer_id order by order_purchase_timestamp\n",
    "rows between 2 preceding and current row) as mov_avg\n",
    "from\n",
    "(select orders.customer_id, orders.order_purchase_timestamp,\n",
    "payments.payment_value as payment\n",
    "from payments join  orders\n",
    "on payments.order_id = orders.order_id) as a\n",
    "\"\"\"\n",
    "\n",
    "cur.execute(query)\n",
    "data = cur.fetchall()\n",
    "df = pd.DataFrame(data,columns=[\"Seller ID\",\"Order Purchase Timestamp\",\"Payment\",\"Moving Average\"])\n",
    "df"
   ]
  },
  {
   "cell_type": "markdown",
   "id": "ba1a228f-21ae-436d-ba3c-f3bc7ec16aa8",
   "metadata": {},
   "source": [
    "**2. Calculate the cumulative sales per month for each year.**"
   ]
  },
  {
   "cell_type": "code",
   "execution_count": null,
   "id": "f23e0bff-ec41-4ff6-a0bb-7793ed7524a9",
   "metadata": {},
   "outputs": [],
   "source": [
    "query=\"\"\" select years, months, payment, sum(payment)\n",
    "over(order by years, months) cumulative_sales from\n",
    "(select year(orders.order_purchase_timestamp) as years,\n",
    "month(orders.order_purchase_timestamp) as months,\n",
    "round(sum(payments.payment_value),2) as payment from orders join payments\n",
    "on orders.order_id = payments.order_id\n",
    "group by years, months order by years, months) as a\n",
    "\"\"\"\n",
    "\n",
    "cur.execute(query)\n",
    "data = cur.fetchall()\n",
    "df=pd.DataFrame(data,columns=[\"Years\",\"Months\",\"Payment\",\"Cumulative sales\"])\n",
    "df"
   ]
  },
  {
   "cell_type": "markdown",
   "id": "fb27be0f-fd91-4782-a11a-ea44d97da528",
   "metadata": {},
   "source": [
    "**3. Calculate the year-over-year growth rate of total sales.**"
   ]
  },
  {
   "cell_type": "code",
   "execution_count": null,
   "id": "b6ba4a78-fe6e-40b5-9323-c6986b92e517",
   "metadata": {},
   "outputs": [],
   "source": [
    "query=\"\"\" with a as(select year(orders.order_purchase_timestamp) as years,\n",
    "round(sum(payments.payment_value),2) as payment from orders join payments\n",
    "on orders.order_id = payments.order_id\n",
    "group by years order by years)\n",
    "\n",
    "select years,((payment - lag(payment,1) over(order by years))/\n",
    "lag(payment,1) over (order by years)) *  100 from a\n",
    "\"\"\"\n",
    "\n",
    "cur.execute(query)\n",
    "data = cur.fetchall()\n",
    "df=pd.DataFrame(data,columns=[\"Years\",\"YOY% Growth\"])\n",
    "df"
   ]
  },
  {
   "cell_type": "markdown",
   "id": "575bb6f5-1195-4f74-b7c4-9996c7620162",
   "metadata": {},
   "source": [
    "**4. Calculate the retention rate of customers, defined as the percentage of customers who make another purchase within 6 months of their first purchase.**"
   ]
  },
  {
   "cell_type": "code",
   "execution_count": null,
   "id": "60e65cfc-348e-487b-bd59-51d2ddc8ff1e",
   "metadata": {},
   "outputs": [],
   "source": [
    "query=\"\"\" with a as(select customers.customer_id,\n",
    "min(orders.order-purchase_timestamp) first_order\n",
    "from customers join orders\n",
    "on customers.customer_id orders.customer_id\n",
    "group by customers.customer_id),\n",
    "\n",
    "b as(select a.customer_id, count(distinct orders.order_purchase_timestamp) next_order\n",
    "from join orders\n",
    "on orders.customer_id = a.customer_id\n",
    "and orders.order_purchase_timestamp > first_order\n",
    "and orders.order_purchase_timestamp <\n",
    "date add(first_order, interval 6 month)\n",
    "group by a.customer_id)\n",
    "\n",
    "select 100 * (count(distinct a.customer_id)/ count(distinct b.customer_id))\n",
    "from a left join b\n",
    "on a.customer_id = b.customer_id\n",
    "\"\"\"\n",
    "\n",
    "cur.execute(query)\n",
    "data = cur.fetchall()\n",
    "df=pd.DataFrame(data,columns=[\"Years\",\"Retention rate of customers\"])\n",
    "df"
   ]
  },
  {
   "cell_type": "markdown",
   "id": "ba26e2e1-4863-473d-b09e-94b82cd52fc8",
   "metadata": {},
   "source": [
    "**5. Identify the top 3 customers who spent the most money in each year.**"
   ]
  },
  {
   "cell_type": "code",
   "execution_count": null,
   "id": "553a4851-08cc-42b2-80ce-fff47a25b096",
   "metadata": {},
   "outputs": [],
   "source": [
    "query=\"\"\" select years, customer_id, payment, d_rank\n",
    "from\n",
    "(select year(orders.order_purchase_timestamp) years,\n",
    "orders.customer_id,\n",
    "sum(payments.payment_value) payment,\n",
    "dense_rank() over(partition by year(orders.order_purchase_timestamp)\n",
    "order by sum(payments.payment_value) desc) d_rank\n",
    "from orders join payments\n",
    "on payments.order_id = orders.order_id\n",
    "group by year(orders.order_purchase_timestamp),\n",
    "orders.customer_id) as a\n",
    "where d_rank<=3\n",
    "\"\"\"\n",
    "\n",
    "cur.execute(query)\n",
    "data = cur.fetchall()\n",
    "df=pd.DataFrame(data,columns=[\"Years\",\"Customer_id\",\"Payment\", \"Rank\"])\n",
    "sns.barplot(x=\"Customer_id\", y=\"Payment\",data=df, hue=\"Years\")\n",
    "plt.xticks(rotation = 90)\n",
    "plt.show()"
   ]
  },
  {
   "cell_type": "code",
   "execution_count": null,
   "id": "37bb8668-ead0-4b45-87d0-dfd250ad1d8d",
   "metadata": {},
   "outputs": [],
   "source": []
  }
 ],
 "metadata": {
  "kernelspec": {
   "display_name": "Python 3 (ipykernel)",
   "language": "python",
   "name": "python3"
  },
  "language_info": {
   "codemirror_mode": {
    "name": "ipython",
    "version": 3
   },
   "file_extension": ".py",
   "mimetype": "text/x-python",
   "name": "python",
   "nbconvert_exporter": "python",
   "pygments_lexer": "ipython3",
   "version": "3.12.4"
  }
 },
 "nbformat": 4,
 "nbformat_minor": 5
}
